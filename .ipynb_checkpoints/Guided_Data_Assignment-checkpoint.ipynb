{
 "cells": [
  {
   "cell_type": "markdown",
   "id": "ce09bf11",
   "metadata": {
    "id": "ce09bf11"
   },
   "source": [
    "# 📘 Guided Internship Notebook: Reading & Subsetting Data in Python"
   ]
  },
  {
   "cell_type": "markdown",
   "id": "d1ed0aea",
   "metadata": {
    "id": "d1ed0aea"
   },
   "source": [
    "## 🧾 1. Load and Preview CSV Data"
   ]
  },
  {
   "cell_type": "code",
   "execution_count": 1,
   "id": "682b155b",
   "metadata": {
    "colab": {
     "base_uri": "https://localhost:8080/",
     "height": 356
    },
    "id": "682b155b",
    "outputId": "dcf0c671-abba-4fab-acf6-9d617e7be66d"
   },
   "outputs": [
    {
     "data": {
      "text/html": [
       "<div>\n",
       "<style scoped>\n",
       "    .dataframe tbody tr th:only-of-type {\n",
       "        vertical-align: middle;\n",
       "    }\n",
       "\n",
       "    .dataframe tbody tr th {\n",
       "        vertical-align: top;\n",
       "    }\n",
       "\n",
       "    .dataframe thead th {\n",
       "        text-align: right;\n",
       "    }\n",
       "</style>\n",
       "<table border=\"1\" class=\"dataframe\">\n",
       "  <thead>\n",
       "    <tr style=\"text-align: right;\">\n",
       "      <th></th>\n",
       "      <th>Item_Identifier</th>\n",
       "      <th>Item_Weight</th>\n",
       "      <th>Item_Fat_Content</th>\n",
       "      <th>Item_Visibility</th>\n",
       "      <th>Item_Type</th>\n",
       "      <th>Item_MRP</th>\n",
       "      <th>Outlet_Identifier</th>\n",
       "      <th>Outlet_Establishment_Year</th>\n",
       "      <th>Outlet_Size</th>\n",
       "      <th>Outlet_Location_Type</th>\n",
       "      <th>Outlet_Type</th>\n",
       "      <th>Item_Outlet_Sales</th>\n",
       "    </tr>\n",
       "  </thead>\n",
       "  <tbody>\n",
       "    <tr>\n",
       "      <th>0</th>\n",
       "      <td>FDA15</td>\n",
       "      <td>9.30</td>\n",
       "      <td>Low Fat</td>\n",
       "      <td>0.016047</td>\n",
       "      <td>Dairy</td>\n",
       "      <td>249.8092</td>\n",
       "      <td>OUT049</td>\n",
       "      <td>1999</td>\n",
       "      <td>Medium</td>\n",
       "      <td>Tier 1</td>\n",
       "      <td>Supermarket Type1</td>\n",
       "      <td>3735.1380</td>\n",
       "    </tr>\n",
       "    <tr>\n",
       "      <th>1</th>\n",
       "      <td>DRC01</td>\n",
       "      <td>5.92</td>\n",
       "      <td>Regular</td>\n",
       "      <td>0.019278</td>\n",
       "      <td>Soft Drinks</td>\n",
       "      <td>48.2692</td>\n",
       "      <td>OUT018</td>\n",
       "      <td>2009</td>\n",
       "      <td>Medium</td>\n",
       "      <td>Tier 3</td>\n",
       "      <td>Supermarket Type2</td>\n",
       "      <td>443.4228</td>\n",
       "    </tr>\n",
       "    <tr>\n",
       "      <th>2</th>\n",
       "      <td>FDN15</td>\n",
       "      <td>17.50</td>\n",
       "      <td>Low Fat</td>\n",
       "      <td>0.016760</td>\n",
       "      <td>Meat</td>\n",
       "      <td>141.6180</td>\n",
       "      <td>OUT049</td>\n",
       "      <td>1999</td>\n",
       "      <td>Medium</td>\n",
       "      <td>Tier 1</td>\n",
       "      <td>Supermarket Type1</td>\n",
       "      <td>2097.2700</td>\n",
       "    </tr>\n",
       "    <tr>\n",
       "      <th>3</th>\n",
       "      <td>FDX07</td>\n",
       "      <td>19.20</td>\n",
       "      <td>Regular</td>\n",
       "      <td>0.000000</td>\n",
       "      <td>Fruits and Vegetables</td>\n",
       "      <td>182.0950</td>\n",
       "      <td>OUT010</td>\n",
       "      <td>1998</td>\n",
       "      <td>NaN</td>\n",
       "      <td>Tier 3</td>\n",
       "      <td>Grocery Store</td>\n",
       "      <td>732.3800</td>\n",
       "    </tr>\n",
       "    <tr>\n",
       "      <th>4</th>\n",
       "      <td>NCD19</td>\n",
       "      <td>8.93</td>\n",
       "      <td>Low Fat</td>\n",
       "      <td>0.000000</td>\n",
       "      <td>Household</td>\n",
       "      <td>53.8614</td>\n",
       "      <td>OUT013</td>\n",
       "      <td>1987</td>\n",
       "      <td>High</td>\n",
       "      <td>Tier 3</td>\n",
       "      <td>Supermarket Type1</td>\n",
       "      <td>994.7052</td>\n",
       "    </tr>\n",
       "  </tbody>\n",
       "</table>\n",
       "</div>"
      ],
      "text/plain": [
       "  Item_Identifier  Item_Weight Item_Fat_Content  Item_Visibility  \\\n",
       "0           FDA15         9.30          Low Fat         0.016047   \n",
       "1           DRC01         5.92          Regular         0.019278   \n",
       "2           FDN15        17.50          Low Fat         0.016760   \n",
       "3           FDX07        19.20          Regular         0.000000   \n",
       "4           NCD19         8.93          Low Fat         0.000000   \n",
       "\n",
       "               Item_Type  Item_MRP Outlet_Identifier  \\\n",
       "0                  Dairy  249.8092            OUT049   \n",
       "1            Soft Drinks   48.2692            OUT018   \n",
       "2                   Meat  141.6180            OUT049   \n",
       "3  Fruits and Vegetables  182.0950            OUT010   \n",
       "4              Household   53.8614            OUT013   \n",
       "\n",
       "   Outlet_Establishment_Year Outlet_Size Outlet_Location_Type  \\\n",
       "0                       1999      Medium               Tier 1   \n",
       "1                       2009      Medium               Tier 3   \n",
       "2                       1999      Medium               Tier 1   \n",
       "3                       1998         NaN               Tier 3   \n",
       "4                       1987        High               Tier 3   \n",
       "\n",
       "         Outlet_Type  Item_Outlet_Sales  \n",
       "0  Supermarket Type1          3735.1380  \n",
       "1  Supermarket Type2           443.4228  \n",
       "2  Supermarket Type1          2097.2700  \n",
       "3      Grocery Store           732.3800  \n",
       "4  Supermarket Type1           994.7052  "
      ]
     },
     "execution_count": 1,
     "metadata": {},
     "output_type": "execute_result"
    }
   ],
   "source": [
    "import pandas as pd\n",
    "\n",
    "# Load the Big Mart dataset\n",
    "csv_path = \"big_mart_sales.csv\"\n",
    "df_csv = pd.read_csv(csv_path)\n",
    "df_csv.head()"
   ]
  },
  {
   "cell_type": "markdown",
   "id": "64367072",
   "metadata": {
    "id": "64367072"
   },
   "source": [
    "# ✅ Task 1:\n",
    "# - View column names\n",
    "# - Check for null values\n",
    "print(df_csv.columns)\n",
    "df_csv.isnull().sum()"
   ]
  },
  {
   "cell_type": "code",
   "execution_count": 6,
   "id": "27a2de94-068a-4a1d-9015-c71173fc5f6c",
   "metadata": {},
   "outputs": [
    {
     "name": "stdout",
     "output_type": "stream",
     "text": [
      "Index(['Item_Identifier', 'Item_Weight', 'Item_Fat_Content', 'Item_Visibility',\n",
      "       'Item_Type', 'Item_MRP', 'Outlet_Identifier',\n",
      "       'Outlet_Establishment_Year', 'Outlet_Size', 'Outlet_Location_Type',\n",
      "       'Outlet_Type', 'Item_Outlet_Sales'],\n",
      "      dtype='object')\n"
     ]
    }
   ],
   "source": [
    "print(df_csv.columns)"
   ]
  },
  {
   "cell_type": "code",
   "execution_count": 8,
   "id": "15d0c69b-50a9-45f0-9336-715296bd6d4d",
   "metadata": {},
   "outputs": [
    {
     "data": {
      "text/plain": [
       "Item_Identifier                 0\n",
       "Item_Weight                  1463\n",
       "Item_Fat_Content                0\n",
       "Item_Visibility                 0\n",
       "Item_Type                       0\n",
       "Item_MRP                        0\n",
       "Outlet_Identifier               0\n",
       "Outlet_Establishment_Year       0\n",
       "Outlet_Size                  2410\n",
       "Outlet_Location_Type            0\n",
       "Outlet_Type                     0\n",
       "Item_Outlet_Sales               0\n",
       "dtype: int64"
      ]
     },
     "execution_count": 8,
     "metadata": {},
     "output_type": "execute_result"
    }
   ],
   "source": [
    "df_csv.isnull().sum()"
   ]
  },
  {
   "cell_type": "markdown",
   "id": "a707ad3f",
   "metadata": {
    "id": "a707ad3f"
   },
   "source": [
    "# 💡 Use Case: Top 5 products with highest sales\n",
    "df_csv.groupby(\"Item_Identifier\")[\"Item_Outlet_Sales\"].sum().sort_values(ascending=False).head()"
   ]
  },
  {
   "cell_type": "code",
   "execution_count": 28,
   "id": "0782e2bc-ca93-4121-ba1b-30f155939596",
   "metadata": {},
   "outputs": [
    {
     "data": {
      "text/plain": [
       "Item_Identifier\n",
       "FDY55    42661.8008\n",
       "FDA15    41584.5364\n",
       "FDZ20    40185.0248\n",
       "FDF05    36555.7490\n",
       "FDA04    35741.4756\n",
       "Name: Item_Outlet_Sales, dtype: float64"
      ]
     },
     "execution_count": 28,
     "metadata": {},
     "output_type": "execute_result"
    }
   ],
   "source": [
    "df_csv.groupby('Item_Identifier')['Item_Outlet_Sales'].sum().sort_values(ascending = False).head(5)"
   ]
  },
  {
   "cell_type": "markdown",
   "id": "98ca4b03",
   "metadata": {
    "id": "98ca4b03"
   },
   "source": [
    "## 📑 2. Load JSON Data"
   ]
  },
  {
   "cell_type": "code",
   "execution_count": 73,
   "id": "dcd7e1f8-4bcc-4dca-8dd5-18ba075c9cc2",
   "metadata": {},
   "outputs": [],
   "source": [
    "data = pd.read_json(\"simple.json\",lines = True)"
   ]
  },
  {
   "cell_type": "code",
   "execution_count": 79,
   "id": "9ace935f-936b-45a8-9419-f93979f4f1e3",
   "metadata": {},
   "outputs": [
    {
     "data": {
      "text/html": [
       "<div>\n",
       "<style scoped>\n",
       "    .dataframe tbody tr th:only-of-type {\n",
       "        vertical-align: middle;\n",
       "    }\n",
       "\n",
       "    .dataframe tbody tr th {\n",
       "        vertical-align: top;\n",
       "    }\n",
       "\n",
       "    .dataframe thead th {\n",
       "        text-align: right;\n",
       "    }\n",
       "</style>\n",
       "<table border=\"1\" class=\"dataframe\">\n",
       "  <thead>\n",
       "    <tr style=\"text-align: right;\">\n",
       "      <th></th>\n",
       "    </tr>\n",
       "  </thead>\n",
       "  <tbody>\n",
       "    <tr>\n",
       "      <th>0</th>\n",
       "    </tr>\n",
       "    <tr>\n",
       "      <th>1</th>\n",
       "    </tr>\n",
       "    <tr>\n",
       "      <th>2</th>\n",
       "    </tr>\n",
       "  </tbody>\n",
       "</table>\n",
       "</div>"
      ],
      "text/plain": [
       "Empty DataFrame\n",
       "Columns: []\n",
       "Index: [0, 1, 2]"
      ]
     },
     "execution_count": 79,
     "metadata": {},
     "output_type": "execute_result"
    }
   ],
   "source": [
    "json = pd.json_normalize(data)\n",
    "json.head()"
   ]
  },
  {
   "cell_type": "markdown",
   "id": "6bc32b2e",
   "metadata": {
    "id": "6bc32b2e"
   },
   "source": [
    "## ✅ Task 2:\n",
    "# - Flatten nested JSON\n",
    "# - Filter values based on criteria"
   ]
  },
  {
   "cell_type": "markdown",
   "id": "1df0a5e2",
   "metadata": {
    "id": "1df0a5e2"
   },
   "source": [
    "## 📊 3. Subsetting Techniques"
   ]
  },
  {
   "cell_type": "markdown",
   "id": "df75d941",
   "metadata": {
    "id": "df75d941"
   },
   "source": [
    "# 📌 Position-Based\n",
    "# First 5 rows & specific columns\n",
    "df_csv.iloc[:5, [0, 1, 3]]"
   ]
  },
  {
   "cell_type": "code",
   "execution_count": 33,
   "id": "260682a3-a516-4cca-9638-ed9427c0ac52",
   "metadata": {},
   "outputs": [
    {
     "data": {
      "text/html": [
       "<div>\n",
       "<style scoped>\n",
       "    .dataframe tbody tr th:only-of-type {\n",
       "        vertical-align: middle;\n",
       "    }\n",
       "\n",
       "    .dataframe tbody tr th {\n",
       "        vertical-align: top;\n",
       "    }\n",
       "\n",
       "    .dataframe thead th {\n",
       "        text-align: right;\n",
       "    }\n",
       "</style>\n",
       "<table border=\"1\" class=\"dataframe\">\n",
       "  <thead>\n",
       "    <tr style=\"text-align: right;\">\n",
       "      <th></th>\n",
       "      <th>Item_Weight</th>\n",
       "      <th>Item_Fat_Content</th>\n",
       "      <th>Item_Visibility</th>\n",
       "    </tr>\n",
       "  </thead>\n",
       "  <tbody>\n",
       "    <tr>\n",
       "      <th>0</th>\n",
       "      <td>9.30</td>\n",
       "      <td>Low Fat</td>\n",
       "      <td>0.016047</td>\n",
       "    </tr>\n",
       "    <tr>\n",
       "      <th>1</th>\n",
       "      <td>5.92</td>\n",
       "      <td>Regular</td>\n",
       "      <td>0.019278</td>\n",
       "    </tr>\n",
       "    <tr>\n",
       "      <th>2</th>\n",
       "      <td>17.50</td>\n",
       "      <td>Low Fat</td>\n",
       "      <td>0.016760</td>\n",
       "    </tr>\n",
       "    <tr>\n",
       "      <th>3</th>\n",
       "      <td>19.20</td>\n",
       "      <td>Regular</td>\n",
       "      <td>0.000000</td>\n",
       "    </tr>\n",
       "    <tr>\n",
       "      <th>4</th>\n",
       "      <td>8.93</td>\n",
       "      <td>Low Fat</td>\n",
       "      <td>0.000000</td>\n",
       "    </tr>\n",
       "  </tbody>\n",
       "</table>\n",
       "</div>"
      ],
      "text/plain": [
       "   Item_Weight Item_Fat_Content  Item_Visibility\n",
       "0         9.30          Low Fat         0.016047\n",
       "1         5.92          Regular         0.019278\n",
       "2        17.50          Low Fat         0.016760\n",
       "3        19.20          Regular         0.000000\n",
       "4         8.93          Low Fat         0.000000"
      ]
     },
     "execution_count": 33,
     "metadata": {},
     "output_type": "execute_result"
    }
   ],
   "source": [
    "df_csv.iloc[0:5,[1,2,3]]"
   ]
  },
  {
   "cell_type": "markdown",
   "id": "7311f598",
   "metadata": {
    "id": "7311f598"
   },
   "source": [
    "# 📌 Label-Based\n",
    "# Filter rows from a specific outlet\n",
    "df_csv.loc[df_csv['Outlet_Identifier'] == 'OUT049']"
   ]
  },
  {
   "cell_type": "code",
   "execution_count": 45,
   "id": "a204b34d-c051-415d-a7de-f7a4c1478f1e",
   "metadata": {},
   "outputs": [
    {
     "data": {
      "text/html": [
       "<div>\n",
       "<style scoped>\n",
       "    .dataframe tbody tr th:only-of-type {\n",
       "        vertical-align: middle;\n",
       "    }\n",
       "\n",
       "    .dataframe tbody tr th {\n",
       "        vertical-align: top;\n",
       "    }\n",
       "\n",
       "    .dataframe thead th {\n",
       "        text-align: right;\n",
       "    }\n",
       "</style>\n",
       "<table border=\"1\" class=\"dataframe\">\n",
       "  <thead>\n",
       "    <tr style=\"text-align: right;\">\n",
       "      <th></th>\n",
       "      <th>Item_Identifier</th>\n",
       "      <th>Item_Weight</th>\n",
       "      <th>Item_Fat_Content</th>\n",
       "      <th>Item_Visibility</th>\n",
       "      <th>Item_Type</th>\n",
       "      <th>Item_MRP</th>\n",
       "      <th>Outlet_Identifier</th>\n",
       "      <th>Outlet_Establishment_Year</th>\n",
       "      <th>Outlet_Size</th>\n",
       "      <th>Outlet_Location_Type</th>\n",
       "      <th>Outlet_Type</th>\n",
       "      <th>Item_Outlet_Sales</th>\n",
       "    </tr>\n",
       "  </thead>\n",
       "  <tbody>\n",
       "    <tr>\n",
       "      <th>1</th>\n",
       "      <td>DRC01</td>\n",
       "      <td>5.920</td>\n",
       "      <td>Regular</td>\n",
       "      <td>0.019278</td>\n",
       "      <td>Soft Drinks</td>\n",
       "      <td>48.2692</td>\n",
       "      <td>OUT018</td>\n",
       "      <td>2009</td>\n",
       "      <td>Medium</td>\n",
       "      <td>Tier 3</td>\n",
       "      <td>Supermarket Type2</td>\n",
       "      <td>443.4228</td>\n",
       "    </tr>\n",
       "    <tr>\n",
       "      <th>5</th>\n",
       "      <td>FDP36</td>\n",
       "      <td>10.395</td>\n",
       "      <td>Regular</td>\n",
       "      <td>0.000000</td>\n",
       "      <td>Baking Goods</td>\n",
       "      <td>51.4008</td>\n",
       "      <td>OUT018</td>\n",
       "      <td>2009</td>\n",
       "      <td>Medium</td>\n",
       "      <td>Tier 3</td>\n",
       "      <td>Supermarket Type2</td>\n",
       "      <td>556.6088</td>\n",
       "    </tr>\n",
       "    <tr>\n",
       "      <th>16</th>\n",
       "      <td>NCB42</td>\n",
       "      <td>11.800</td>\n",
       "      <td>Low Fat</td>\n",
       "      <td>0.008596</td>\n",
       "      <td>Health and Hygiene</td>\n",
       "      <td>115.3492</td>\n",
       "      <td>OUT018</td>\n",
       "      <td>2009</td>\n",
       "      <td>Medium</td>\n",
       "      <td>Tier 3</td>\n",
       "      <td>Supermarket Type2</td>\n",
       "      <td>1621.8888</td>\n",
       "    </tr>\n",
       "    <tr>\n",
       "      <th>31</th>\n",
       "      <td>NCS17</td>\n",
       "      <td>18.600</td>\n",
       "      <td>Low Fat</td>\n",
       "      <td>0.080829</td>\n",
       "      <td>Health and Hygiene</td>\n",
       "      <td>96.4436</td>\n",
       "      <td>OUT018</td>\n",
       "      <td>2009</td>\n",
       "      <td>Medium</td>\n",
       "      <td>Tier 3</td>\n",
       "      <td>Supermarket Type2</td>\n",
       "      <td>2741.7644</td>\n",
       "    </tr>\n",
       "    <tr>\n",
       "      <th>32</th>\n",
       "      <td>FDP33</td>\n",
       "      <td>18.700</td>\n",
       "      <td>Low Fat</td>\n",
       "      <td>0.000000</td>\n",
       "      <td>Snack Foods</td>\n",
       "      <td>256.6672</td>\n",
       "      <td>OUT018</td>\n",
       "      <td>2009</td>\n",
       "      <td>Medium</td>\n",
       "      <td>Tier 3</td>\n",
       "      <td>Supermarket Type2</td>\n",
       "      <td>3068.0064</td>\n",
       "    </tr>\n",
       "    <tr>\n",
       "      <th>...</th>\n",
       "      <td>...</td>\n",
       "      <td>...</td>\n",
       "      <td>...</td>\n",
       "      <td>...</td>\n",
       "      <td>...</td>\n",
       "      <td>...</td>\n",
       "      <td>...</td>\n",
       "      <td>...</td>\n",
       "      <td>...</td>\n",
       "      <td>...</td>\n",
       "      <td>...</td>\n",
       "      <td>...</td>\n",
       "    </tr>\n",
       "    <tr>\n",
       "      <th>8506</th>\n",
       "      <td>DRF37</td>\n",
       "      <td>17.250</td>\n",
       "      <td>Low Fat</td>\n",
       "      <td>0.084676</td>\n",
       "      <td>Soft Drinks</td>\n",
       "      <td>263.1910</td>\n",
       "      <td>OUT018</td>\n",
       "      <td>2009</td>\n",
       "      <td>Medium</td>\n",
       "      <td>Tier 3</td>\n",
       "      <td>Supermarket Type2</td>\n",
       "      <td>3944.8650</td>\n",
       "    </tr>\n",
       "    <tr>\n",
       "      <th>8511</th>\n",
       "      <td>FDF05</td>\n",
       "      <td>17.500</td>\n",
       "      <td>Low Fat</td>\n",
       "      <td>0.026980</td>\n",
       "      <td>Frozen Foods</td>\n",
       "      <td>262.5910</td>\n",
       "      <td>OUT018</td>\n",
       "      <td>2009</td>\n",
       "      <td>Medium</td>\n",
       "      <td>Tier 3</td>\n",
       "      <td>Supermarket Type2</td>\n",
       "      <td>4207.8560</td>\n",
       "    </tr>\n",
       "    <tr>\n",
       "      <th>8515</th>\n",
       "      <td>FDH24</td>\n",
       "      <td>20.700</td>\n",
       "      <td>Low Fat</td>\n",
       "      <td>0.021518</td>\n",
       "      <td>Baking Goods</td>\n",
       "      <td>157.5288</td>\n",
       "      <td>OUT018</td>\n",
       "      <td>2009</td>\n",
       "      <td>Medium</td>\n",
       "      <td>Tier 3</td>\n",
       "      <td>Supermarket Type2</td>\n",
       "      <td>1571.2880</td>\n",
       "    </tr>\n",
       "    <tr>\n",
       "      <th>8516</th>\n",
       "      <td>NCJ19</td>\n",
       "      <td>18.600</td>\n",
       "      <td>Low Fat</td>\n",
       "      <td>0.118661</td>\n",
       "      <td>Others</td>\n",
       "      <td>58.7588</td>\n",
       "      <td>OUT018</td>\n",
       "      <td>2009</td>\n",
       "      <td>Medium</td>\n",
       "      <td>Tier 3</td>\n",
       "      <td>Supermarket Type2</td>\n",
       "      <td>858.8820</td>\n",
       "    </tr>\n",
       "    <tr>\n",
       "      <th>8521</th>\n",
       "      <td>FDN46</td>\n",
       "      <td>7.210</td>\n",
       "      <td>Regular</td>\n",
       "      <td>0.145221</td>\n",
       "      <td>Snack Foods</td>\n",
       "      <td>103.1332</td>\n",
       "      <td>OUT018</td>\n",
       "      <td>2009</td>\n",
       "      <td>Medium</td>\n",
       "      <td>Tier 3</td>\n",
       "      <td>Supermarket Type2</td>\n",
       "      <td>1845.5976</td>\n",
       "    </tr>\n",
       "  </tbody>\n",
       "</table>\n",
       "<p>928 rows × 12 columns</p>\n",
       "</div>"
      ],
      "text/plain": [
       "     Item_Identifier  Item_Weight Item_Fat_Content  Item_Visibility  \\\n",
       "1              DRC01        5.920          Regular         0.019278   \n",
       "5              FDP36       10.395          Regular         0.000000   \n",
       "16             NCB42       11.800          Low Fat         0.008596   \n",
       "31             NCS17       18.600          Low Fat         0.080829   \n",
       "32             FDP33       18.700          Low Fat         0.000000   \n",
       "...              ...          ...              ...              ...   \n",
       "8506           DRF37       17.250          Low Fat         0.084676   \n",
       "8511           FDF05       17.500          Low Fat         0.026980   \n",
       "8515           FDH24       20.700          Low Fat         0.021518   \n",
       "8516           NCJ19       18.600          Low Fat         0.118661   \n",
       "8521           FDN46        7.210          Regular         0.145221   \n",
       "\n",
       "               Item_Type  Item_MRP Outlet_Identifier  \\\n",
       "1            Soft Drinks   48.2692            OUT018   \n",
       "5           Baking Goods   51.4008            OUT018   \n",
       "16    Health and Hygiene  115.3492            OUT018   \n",
       "31    Health and Hygiene   96.4436            OUT018   \n",
       "32           Snack Foods  256.6672            OUT018   \n",
       "...                  ...       ...               ...   \n",
       "8506         Soft Drinks  263.1910            OUT018   \n",
       "8511        Frozen Foods  262.5910            OUT018   \n",
       "8515        Baking Goods  157.5288            OUT018   \n",
       "8516              Others   58.7588            OUT018   \n",
       "8521         Snack Foods  103.1332            OUT018   \n",
       "\n",
       "      Outlet_Establishment_Year Outlet_Size Outlet_Location_Type  \\\n",
       "1                          2009      Medium               Tier 3   \n",
       "5                          2009      Medium               Tier 3   \n",
       "16                         2009      Medium               Tier 3   \n",
       "31                         2009      Medium               Tier 3   \n",
       "32                         2009      Medium               Tier 3   \n",
       "...                         ...         ...                  ...   \n",
       "8506                       2009      Medium               Tier 3   \n",
       "8511                       2009      Medium               Tier 3   \n",
       "8515                       2009      Medium               Tier 3   \n",
       "8516                       2009      Medium               Tier 3   \n",
       "8521                       2009      Medium               Tier 3   \n",
       "\n",
       "            Outlet_Type  Item_Outlet_Sales  \n",
       "1     Supermarket Type2           443.4228  \n",
       "5     Supermarket Type2           556.6088  \n",
       "16    Supermarket Type2          1621.8888  \n",
       "31    Supermarket Type2          2741.7644  \n",
       "32    Supermarket Type2          3068.0064  \n",
       "...                 ...                ...  \n",
       "8506  Supermarket Type2          3944.8650  \n",
       "8511  Supermarket Type2          4207.8560  \n",
       "8515  Supermarket Type2          1571.2880  \n",
       "8516  Supermarket Type2           858.8820  \n",
       "8521  Supermarket Type2          1845.5976  \n",
       "\n",
       "[928 rows x 12 columns]"
      ]
     },
     "execution_count": 45,
     "metadata": {},
     "output_type": "execute_result"
    }
   ],
   "source": [
    "df_csv.loc[df_csv[\"Outlet_Identifier\"]==\"OUT018\"]"
   ]
  },
  {
   "cell_type": "markdown",
   "id": "94015782",
   "metadata": {
    "id": "94015782"
   },
   "source": [
    "# 📌 Value-Based\n",
    "# Filter where sales > 5000 and item type is Snacks\n",
    "df_csv[(df_csv['Item_Outlet_Sales'] > 5000) & (df_csv['Item_Type'] == 'Snack Foods')]"
   ]
  },
  {
   "cell_type": "code",
   "execution_count": 47,
   "id": "c5ced48c-f06c-4d41-8ade-c09920af5db0",
   "metadata": {},
   "outputs": [
    {
     "data": {
      "text/html": [
       "<div>\n",
       "<style scoped>\n",
       "    .dataframe tbody tr th:only-of-type {\n",
       "        vertical-align: middle;\n",
       "    }\n",
       "\n",
       "    .dataframe tbody tr th {\n",
       "        vertical-align: top;\n",
       "    }\n",
       "\n",
       "    .dataframe thead th {\n",
       "        text-align: right;\n",
       "    }\n",
       "</style>\n",
       "<table border=\"1\" class=\"dataframe\">\n",
       "  <thead>\n",
       "    <tr style=\"text-align: right;\">\n",
       "      <th></th>\n",
       "      <th>Item_Identifier</th>\n",
       "      <th>Item_Weight</th>\n",
       "      <th>Item_Fat_Content</th>\n",
       "      <th>Item_Visibility</th>\n",
       "      <th>Item_Type</th>\n",
       "      <th>Item_MRP</th>\n",
       "      <th>Outlet_Identifier</th>\n",
       "      <th>Outlet_Establishment_Year</th>\n",
       "      <th>Outlet_Size</th>\n",
       "      <th>Outlet_Location_Type</th>\n",
       "      <th>Outlet_Type</th>\n",
       "      <th>Item_Outlet_Sales</th>\n",
       "    </tr>\n",
       "  </thead>\n",
       "  <tbody>\n",
       "    <tr>\n",
       "      <th>55</th>\n",
       "      <td>FDK21</td>\n",
       "      <td>7.905</td>\n",
       "      <td>Low Fat</td>\n",
       "      <td>0.010053</td>\n",
       "      <td>Snack Foods</td>\n",
       "      <td>249.0408</td>\n",
       "      <td>OUT018</td>\n",
       "      <td>2009</td>\n",
       "      <td>Medium</td>\n",
       "      <td>Tier 3</td>\n",
       "      <td>Supermarket Type2</td>\n",
       "      <td>6258.5200</td>\n",
       "    </tr>\n",
       "    <tr>\n",
       "      <th>333</th>\n",
       "      <td>FDN58</td>\n",
       "      <td>NaN</td>\n",
       "      <td>Regular</td>\n",
       "      <td>0.056597</td>\n",
       "      <td>Snack Foods</td>\n",
       "      <td>230.9984</td>\n",
       "      <td>OUT027</td>\n",
       "      <td>1985</td>\n",
       "      <td>Medium</td>\n",
       "      <td>Tier 3</td>\n",
       "      <td>Supermarket Type3</td>\n",
       "      <td>9267.9360</td>\n",
       "    </tr>\n",
       "    <tr>\n",
       "      <th>373</th>\n",
       "      <td>FDX09</td>\n",
       "      <td>9.000</td>\n",
       "      <td>Low Fat</td>\n",
       "      <td>0.065237</td>\n",
       "      <td>Snack Foods</td>\n",
       "      <td>176.4370</td>\n",
       "      <td>OUT035</td>\n",
       "      <td>2004</td>\n",
       "      <td>Small</td>\n",
       "      <td>Tier 2</td>\n",
       "      <td>Supermarket Type1</td>\n",
       "      <td>7763.2280</td>\n",
       "    </tr>\n",
       "    <tr>\n",
       "      <th>406</th>\n",
       "      <td>FDF22</td>\n",
       "      <td>6.865</td>\n",
       "      <td>Low Fat</td>\n",
       "      <td>0.056919</td>\n",
       "      <td>Snack Foods</td>\n",
       "      <td>212.8218</td>\n",
       "      <td>OUT049</td>\n",
       "      <td>1999</td>\n",
       "      <td>Medium</td>\n",
       "      <td>Tier 1</td>\n",
       "      <td>Supermarket Type1</td>\n",
       "      <td>5770.4886</td>\n",
       "    </tr>\n",
       "    <tr>\n",
       "      <th>640</th>\n",
       "      <td>FDC46</td>\n",
       "      <td>NaN</td>\n",
       "      <td>Low Fat</td>\n",
       "      <td>0.115978</td>\n",
       "      <td>Snack Foods</td>\n",
       "      <td>183.4266</td>\n",
       "      <td>OUT027</td>\n",
       "      <td>1985</td>\n",
       "      <td>Medium</td>\n",
       "      <td>Tier 3</td>\n",
       "      <td>Supermarket Type3</td>\n",
       "      <td>7192.6374</td>\n",
       "    </tr>\n",
       "    <tr>\n",
       "      <th>...</th>\n",
       "      <td>...</td>\n",
       "      <td>...</td>\n",
       "      <td>...</td>\n",
       "      <td>...</td>\n",
       "      <td>...</td>\n",
       "      <td>...</td>\n",
       "      <td>...</td>\n",
       "      <td>...</td>\n",
       "      <td>...</td>\n",
       "      <td>...</td>\n",
       "      <td>...</td>\n",
       "      <td>...</td>\n",
       "    </tr>\n",
       "    <tr>\n",
       "      <th>7891</th>\n",
       "      <td>FDP21</td>\n",
       "      <td>NaN</td>\n",
       "      <td>Regular</td>\n",
       "      <td>0.025616</td>\n",
       "      <td>Snack Foods</td>\n",
       "      <td>188.1872</td>\n",
       "      <td>OUT027</td>\n",
       "      <td>1985</td>\n",
       "      <td>Medium</td>\n",
       "      <td>Tier 3</td>\n",
       "      <td>Supermarket Type3</td>\n",
       "      <td>6239.8776</td>\n",
       "    </tr>\n",
       "    <tr>\n",
       "      <th>7902</th>\n",
       "      <td>FDR22</td>\n",
       "      <td>NaN</td>\n",
       "      <td>Regular</td>\n",
       "      <td>0.018473</td>\n",
       "      <td>Snack Foods</td>\n",
       "      <td>109.9544</td>\n",
       "      <td>OUT027</td>\n",
       "      <td>1985</td>\n",
       "      <td>Medium</td>\n",
       "      <td>Tier 3</td>\n",
       "      <td>Supermarket Type3</td>\n",
       "      <td>5257.1568</td>\n",
       "    </tr>\n",
       "    <tr>\n",
       "      <th>7981</th>\n",
       "      <td>FDY34</td>\n",
       "      <td>NaN</td>\n",
       "      <td>Regular</td>\n",
       "      <td>0.010929</td>\n",
       "      <td>Snack Foods</td>\n",
       "      <td>167.0842</td>\n",
       "      <td>OUT027</td>\n",
       "      <td>1985</td>\n",
       "      <td>Medium</td>\n",
       "      <td>Tier 3</td>\n",
       "      <td>Supermarket Type3</td>\n",
       "      <td>6465.5838</td>\n",
       "    </tr>\n",
       "    <tr>\n",
       "      <th>8113</th>\n",
       "      <td>FDN09</td>\n",
       "      <td>14.150</td>\n",
       "      <td>Low Fat</td>\n",
       "      <td>0.034868</td>\n",
       "      <td>Snack Foods</td>\n",
       "      <td>243.7828</td>\n",
       "      <td>OUT035</td>\n",
       "      <td>2004</td>\n",
       "      <td>Small</td>\n",
       "      <td>Tier 2</td>\n",
       "      <td>Supermarket Type1</td>\n",
       "      <td>6579.4356</td>\n",
       "    </tr>\n",
       "    <tr>\n",
       "      <th>8510</th>\n",
       "      <td>FDN58</td>\n",
       "      <td>13.800</td>\n",
       "      <td>Regular</td>\n",
       "      <td>0.056862</td>\n",
       "      <td>Snack Foods</td>\n",
       "      <td>231.5984</td>\n",
       "      <td>OUT035</td>\n",
       "      <td>2004</td>\n",
       "      <td>Small</td>\n",
       "      <td>Tier 2</td>\n",
       "      <td>Supermarket Type1</td>\n",
       "      <td>7182.6504</td>\n",
       "    </tr>\n",
       "  </tbody>\n",
       "</table>\n",
       "<p>93 rows × 12 columns</p>\n",
       "</div>"
      ],
      "text/plain": [
       "     Item_Identifier  Item_Weight Item_Fat_Content  Item_Visibility  \\\n",
       "55             FDK21        7.905          Low Fat         0.010053   \n",
       "333            FDN58          NaN          Regular         0.056597   \n",
       "373            FDX09        9.000          Low Fat         0.065237   \n",
       "406            FDF22        6.865          Low Fat         0.056919   \n",
       "640            FDC46          NaN          Low Fat         0.115978   \n",
       "...              ...          ...              ...              ...   \n",
       "7891           FDP21          NaN          Regular         0.025616   \n",
       "7902           FDR22          NaN          Regular         0.018473   \n",
       "7981           FDY34          NaN          Regular         0.010929   \n",
       "8113           FDN09       14.150          Low Fat         0.034868   \n",
       "8510           FDN58       13.800          Regular         0.056862   \n",
       "\n",
       "        Item_Type  Item_MRP Outlet_Identifier  Outlet_Establishment_Year  \\\n",
       "55    Snack Foods  249.0408            OUT018                       2009   \n",
       "333   Snack Foods  230.9984            OUT027                       1985   \n",
       "373   Snack Foods  176.4370            OUT035                       2004   \n",
       "406   Snack Foods  212.8218            OUT049                       1999   \n",
       "640   Snack Foods  183.4266            OUT027                       1985   \n",
       "...           ...       ...               ...                        ...   \n",
       "7891  Snack Foods  188.1872            OUT027                       1985   \n",
       "7902  Snack Foods  109.9544            OUT027                       1985   \n",
       "7981  Snack Foods  167.0842            OUT027                       1985   \n",
       "8113  Snack Foods  243.7828            OUT035                       2004   \n",
       "8510  Snack Foods  231.5984            OUT035                       2004   \n",
       "\n",
       "     Outlet_Size Outlet_Location_Type        Outlet_Type  Item_Outlet_Sales  \n",
       "55        Medium               Tier 3  Supermarket Type2          6258.5200  \n",
       "333       Medium               Tier 3  Supermarket Type3          9267.9360  \n",
       "373        Small               Tier 2  Supermarket Type1          7763.2280  \n",
       "406       Medium               Tier 1  Supermarket Type1          5770.4886  \n",
       "640       Medium               Tier 3  Supermarket Type3          7192.6374  \n",
       "...          ...                  ...                ...                ...  \n",
       "7891      Medium               Tier 3  Supermarket Type3          6239.8776  \n",
       "7902      Medium               Tier 3  Supermarket Type3          5257.1568  \n",
       "7981      Medium               Tier 3  Supermarket Type3          6465.5838  \n",
       "8113       Small               Tier 2  Supermarket Type1          6579.4356  \n",
       "8510       Small               Tier 2  Supermarket Type1          7182.6504  \n",
       "\n",
       "[93 rows x 12 columns]"
      ]
     },
     "execution_count": 47,
     "metadata": {},
     "output_type": "execute_result"
    }
   ],
   "source": [
    "df_csv[(df_csv[\"Item_Outlet_Sales\"]>5000)&(df_csv[\"Item_Type\"]=='Snack Foods')]"
   ]
  },
  {
   "cell_type": "markdown",
   "id": "2e713013",
   "metadata": {
    "id": "2e713013"
   },
   "source": [
    "## 🛠️ 4. Modifying Data"
   ]
  },
  {
   "cell_type": "markdown",
   "id": "9eb3e388",
   "metadata": {
    "id": "9eb3e388"
   },
   "source": [
    "# Add a new column: Profit = Sales - MRP\n",
    "if 'Item_MRP' in df_csv.columns:\n",
    "    df_csv['Estimated_Profit'] = df_csv['Item_Outlet_Sales'] - df_csv['Item_MRP']"
   ]
  },
  {
   "cell_type": "code",
   "execution_count": 49,
   "id": "2f911a47-d75d-45c4-8b98-2c56123952fc",
   "metadata": {},
   "outputs": [],
   "source": [
    "df_csv[\"Profit\"]= df_csv[\"Item_Outlet_Sales\"]-df_csv[\"Item_MRP\"] "
   ]
  },
  {
   "cell_type": "markdown",
   "id": "c997e5cc",
   "metadata": {
    "id": "c997e5cc"
   },
   "source": [
    "# Rename columns\n",
    "df_csv.rename(columns={'Item_Weight': 'Weight_kg'}, inplace=True)"
   ]
  },
  {
   "cell_type": "code",
   "execution_count": 54,
   "id": "f808315a-ed73-48ad-8223-5ceb1dbc051a",
   "metadata": {},
   "outputs": [],
   "source": [
    "df_csv.rename(columns={\"Item_Weight\":\"Wieght_Kg\"},inplace = True)"
   ]
  },
  {
   "cell_type": "markdown",
   "id": "d73a5a4d",
   "metadata": {
    "id": "d73a5a4d"
   },
   "source": [
    "# Drop missing values\n",
    "df_csv.dropna(inplace=True)"
   ]
  },
  {
   "cell_type": "code",
   "execution_count": 56,
   "id": "67dc993c-a292-4f15-9427-c026c7eda289",
   "metadata": {},
   "outputs": [],
   "source": [
    "df_csv.dropna(inplace=True)"
   ]
  },
  {
   "cell_type": "markdown",
   "id": "5224439e",
   "metadata": {
    "id": "5224439e"
   },
   "source": [
    "## 📈 5. Additional Use Cases"
   ]
  },
  {
   "cell_type": "markdown",
   "id": "047ff3b5",
   "metadata": {
    "id": "047ff3b5"
   },
   "source": [
    "# 🔍 Find items sold in maximum number of outlets\n",
    "df_csv.groupby('Item_Identifier')['Outlet_Identifier'].nunique().sort_values(ascending=False).head()"
   ]
  },
  {
   "cell_type": "code",
   "execution_count": 65,
   "id": "2f45f440-9a26-4d81-a34c-adcde954d985",
   "metadata": {},
   "outputs": [
    {
     "data": {
      "text/plain": [
       "Item_Identifier\n",
       "FDD21    5\n",
       "FDO19    5\n",
       "FDB12    5\n",
       "FDB15    5\n",
       "NCJ30    5\n",
       "Name: Outlet_Identifier, dtype: int64"
      ]
     },
     "execution_count": 65,
     "metadata": {},
     "output_type": "execute_result"
    }
   ],
   "source": [
    "df_csv.groupby(\"Item_Identifier\")[\"Outlet_Identifier\"].nunique().sort_values(ascending = False).head()"
   ]
  },
  {
   "cell_type": "markdown",
   "id": "c75c51cd",
   "metadata": {
    "id": "c75c51cd"
   },
   "source": [
    "# 📉 Outlier Detection for Sales\n",
    "import matplotlib.pyplot as plt\n",
    "import seaborn as sns\n",
    "sns.boxplot(df_csv['Item_Outlet_Sales'])\n",
    "plt.title(\"Outlier Detection: Sales\")\n",
    "plt.show()"
   ]
  },
  {
   "cell_type": "code",
   "execution_count": 71,
   "id": "f66690c2-65c0-44f2-b342-269c9b3a591a",
   "metadata": {},
   "outputs": [
    {
     "data": {
      "image/png": "[encoded data removed]",
      "text/plain": [
       "<Figure size 640x480 with 1 Axes>"
      ]
     },
     "metadata": {},
     "output_type": "display_data"
    }
   ],
   "source": [
    "import matplotlib.pyplot as plt\n",
    "import seaborn as sns\n",
    "\n",
    "sns.boxplot(df_csv[\"Item_Outlet_Sales\"])\n",
    "plt.title(\"Outlier Detection Sales\")\n",
    "plt.ylabel(\"Item Outlet Sales\")\n",
    "plt.show()"
   ]
  },
  {
   "cell_type": "markdown",
   "id": "6935f2ac",
   "metadata": {
    "id": "6935f2ac"
   },
   "source": [
    "## 📌 Final Task: Summary Report"
   ]
  },
  {
   "cell_type": "markdown",
   "id": "5158f18c",
   "metadata": {
    "id": "5158f18c"
   },
   "source": [
    "# 1. Load all files (CSV, JSON)\n",
    "# 2. Perform at least 3 subsetting operations\n",
    "# 3. Modify dataset (add column, drop NA, rename)\n",
    "# 4. Extract insights (top categories, summary stats)\n",
    "# 5. Visualize at least 1 trend"
   ]
  },
  {
   "cell_type": "markdown",
   "id": "b8ed8729",
   "metadata": {
    "id": "b8ed8729"
   },
   "source": [
    "# ✅ Submit: `.ipynb` file + 1-page summary in `.pdf`"
   ]
  }
 ],
 "metadata": {
  "colab": {
   "provenance": []
  },
  "kernelspec": {
   "display_name": "Python 3 (ipykernel)",
   "language": "python",
   "name": "python3"
  },
  "language_info": {
   "codemirror_mode": {
    "name": "ipython",
    "version": 3
   },
   "file_extension": ".py",
   "mimetype": "text/x-python",
   "name": "python",
   "nbconvert_exporter": "python",
   "pygments_lexer": "ipython3",
   "version": "3.12.4"
  }
 },
 "nbformat": 4,
 "nbformat_minor": 5
}
