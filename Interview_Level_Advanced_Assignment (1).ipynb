{
 "cells": [
  {
   "cell_type": "markdown",
   "id": "8056a898",
   "metadata": {
    "id": "8056a898"
   },
   "source": [
    "# 💼 Advanced Data Analysis Assignment:"
   ]
  },
  {
   "cell_type": "markdown",
   "id": "d0fe0176",
   "metadata": {
    "id": "d0fe0176"
   },
   "source": [
    "## 📦 1. Setup"
   ]
  },
  {
   "cell_type": "code",
   "execution_count": 1,
   "id": "3b766000",
   "metadata": {
    "id": "3b766000"
   },
   "outputs": [],
   "source": [
    "import pandas as pd\n",
    "import numpy as np\n",
    "import matplotlib.pyplot as plt\n",
    "import seaborn as sns\n",
    "\n",
    "sns.set(style='darkgrid')\n",
    "%matplotlib inline"
   ]
  },
  {
   "cell_type": "code",
   "execution_count": 3,
   "id": "caf44c25-8e19-4514-93ea-b6ea1b1e7ba0",
   "metadata": {},
   "outputs": [],
   "source": [
    "df = pd.read_csv(\"big_mart_sales.csv\")"
   ]
  },
  {
   "cell_type": "markdown",
   "id": "e9ade471",
   "metadata": {
    "id": "e9ade471"
   },
   "source": [
    "---\n",
    "## 🧠 Scenario 1: Complex Filtering with Multiple Conditions"
   ]
  },
  {
   "cell_type": "markdown",
   "id": "6340d9af",
   "metadata": {
    "id": "6340d9af",
    "jp-MarkdownHeadingCollapsed": true
   },
   "source": [
    "### Problem Statement:\n",
    "Find items where:\n",
    "- Sales are above 90th percentile\n",
    "- Item_MRP is within 10% of its mean\n",
    "- Item_Visibility is below median"
   ]
  },
  {
   "cell_type": "markdown",
   "id": "447f3f0e",
   "metadata": {
    "id": "447f3f0e"
   },
   "source": [
    "### ✍️ Your Task:"
   ]
  },
  {
   "cell_type": "code",
   "execution_count": 5,
   "id": "8fb03c37",
   "metadata": {
    "id": "8fb03c37"
   },
   "outputs": [
    {
     "name": "stdout",
     "output_type": "stream",
     "text": [
      "     Item_Identifier  Item_Weight Item_Fat_Content  Item_Visibility  \\\n",
      "54             NCP18        12.15          Low Fat         0.028760   \n",
      "844            FDV01          NaN          Regular         0.000000   \n",
      "1173           FDH57          NaN          Low Fat         0.035574   \n",
      "2355           FDR15         9.30          Regular         0.033432   \n",
      "2863           FDS16          NaN          Regular         0.000000   \n",
      "3234           NCR50          NaN               LF         0.011763   \n",
      "3543           FDQ33          NaN          Low Fat         0.000000   \n",
      "3726           FDB58          NaN          Regular         0.013431   \n",
      "3825           FDK32          NaN          Regular         0.048738   \n",
      "3832           DRF27         8.93          Low Fat         0.028461   \n",
      "3866           NCP05          NaN          Low Fat         0.025164   \n",
      "4013           FDG14          NaN          Regular         0.050256   \n",
      "4600           FDE08          NaN          Low Fat         0.049081   \n",
      "4676           DRE49          NaN          Low Fat         0.000000   \n",
      "4901           FDS39          NaN          Low Fat         0.022352   \n",
      "4980           FDJ21        16.70          Regular         0.038746   \n",
      "5193           FDE05          NaN          Regular         0.032297   \n",
      "6028           NCD54          NaN          Low Fat         0.028868   \n",
      "6082           NCI29          NaN          Low Fat         0.032464   \n",
      "6826           FDJ21        16.70          Regular         0.038496   \n",
      "7095           FDW04          NaN          Regular         0.000000   \n",
      "8395           FDG21        17.35          Regular         0.000000   \n",
      "\n",
      "                  Item_Type  Item_MRP Outlet_Identifier  \\\n",
      "54                Household  151.4708            OUT017   \n",
      "844                  Canned  154.6314            OUT027   \n",
      "1173  Fruits and Vegetables  131.4284            OUT027   \n",
      "2355                   Meat  153.1314            OUT035   \n",
      "2863           Frozen Foods  145.2760            OUT027   \n",
      "3234              Household  153.5340            OUT027   \n",
      "3543            Snack Foods  151.6708            OUT027   \n",
      "3726            Snack Foods  143.7154            OUT027   \n",
      "3825  Fruits and Vegetables  152.8682            OUT027   \n",
      "3832                  Dairy  152.2340            OUT049   \n",
      "3866     Health and Hygiene  152.6024            OUT027   \n",
      "4013                 Canned  150.9024            OUT027   \n",
      "4600  Fruits and Vegetables  147.7734            OUT027   \n",
      "4676            Soft Drinks  153.8024            OUT027   \n",
      "4901                   Meat  143.7812            OUT027   \n",
      "4980            Snack Foods  143.8102            OUT017   \n",
      "5193           Frozen Foods  144.0102            OUT027   \n",
      "6028              Household  146.3786            OUT027   \n",
      "6082     Health and Hygiene  139.9154            OUT027   \n",
      "6826            Snack Foods  147.5102            OUT013   \n",
      "7095           Frozen Foods  130.5310            OUT027   \n",
      "8395                Seafood  150.2050            OUT045   \n",
      "\n",
      "      Outlet_Establishment_Year Outlet_Size Outlet_Location_Type  \\\n",
      "54                         2007         NaN               Tier 2   \n",
      "844                        1985      Medium               Tier 3   \n",
      "1173                       1985      Medium               Tier 3   \n",
      "2355                       2004       Small               Tier 2   \n",
      "2863                       1985      Medium               Tier 3   \n",
      "3234                       1985      Medium               Tier 3   \n",
      "3543                       1985      Medium               Tier 3   \n",
      "3726                       1985      Medium               Tier 3   \n",
      "3825                       1985      Medium               Tier 3   \n",
      "3832                       1999      Medium               Tier 1   \n",
      "3866                       1985      Medium               Tier 3   \n",
      "4013                       1985      Medium               Tier 3   \n",
      "4600                       1985      Medium               Tier 3   \n",
      "4676                       1985      Medium               Tier 3   \n",
      "4901                       1985      Medium               Tier 3   \n",
      "4980                       2007         NaN               Tier 2   \n",
      "5193                       1985      Medium               Tier 3   \n",
      "6028                       1985      Medium               Tier 3   \n",
      "6082                       1985      Medium               Tier 3   \n",
      "6826                       1987        High               Tier 3   \n",
      "7095                       1985      Medium               Tier 3   \n",
      "8395                       2002         NaN               Tier 2   \n",
      "\n",
      "            Outlet_Type  Item_Outlet_Sales  \n",
      "54    Supermarket Type1          4815.0656  \n",
      "844   Supermarket Type3          6515.5188  \n",
      "1173  Supermarket Type3          5404.9644  \n",
      "2355  Supermarket Type1          4653.9420  \n",
      "2863  Supermarket Type3          5273.1360  \n",
      "3234  Supermarket Type3          7503.5660  \n",
      "3543  Supermarket Type3          4815.0656  \n",
      "3726  Supermarket Type3          4821.7236  \n",
      "3825  Supermarket Type3          5031.4506  \n",
      "3832  Supermarket Type1          5053.4220  \n",
      "3866  Supermarket Type3          6072.0960  \n",
      "4013  Supermarket Type3          4857.6768  \n",
      "4600  Supermarket Type3          4602.6754  \n",
      "4676  Supermarket Type3          7741.9224  \n",
      "4901  Supermarket Type3          4986.8420  \n",
      "4980  Supermarket Type1          4811.7366  \n",
      "5193  Supermarket Type3          5394.9774  \n",
      "6028  Supermarket Type3          5056.7510  \n",
      "6082  Supermarket Type3          4963.5390  \n",
      "6826  Supermarket Type1          5540.7876  \n",
      "7095  Supermarket Type3          5582.7330  \n",
      "8395  Supermarket Type1          5992.2000  \n"
     ]
    }
   ],
   "source": [
    "# Calculate thresholds\n",
    "sales_90 = df['Item_Outlet_Sales'].quantile(0.9)\n",
    "mrp_mean = df['Item_MRP'].mean()\n",
    "mrp_lower = mrp_mean * 0.9\n",
    "mrp_upper = mrp_mean * 1.1\n",
    "visibility_median = df['Item_Visibility'].median()\n",
    "\n",
    "# Apply all conditions\n",
    "filtered_df = df[\n",
    "    (df['Item_Outlet_Sales'] > sales_90) &\n",
    "    (df['Item_MRP'] >= mrp_lower) & (df['Item_MRP'] <= mrp_upper) &\n",
    "    (df['Item_Visibility'] < visibility_median)\n",
    "]\n",
    "\n",
    "print(filtered_df)\n"
   ]
  },
  {
   "cell_type": "markdown",
   "id": "dfde9845",
   "metadata": {
    "id": "dfde9845"
   },
   "source": [
    "---\n",
    "## 📈 Scenario 2: Custom Aggregation Functions"
   ]
  },
  {
   "cell_type": "markdown",
   "id": "130ece38",
   "metadata": {
    "id": "130ece38"
   },
   "source": [
    "### Problem Statement:\n",
    "Group data by `Outlet_Type` and calculate:\n",
    "- Mean, Std Dev of Sales\n",
    "- 25th and 75th percentiles\n",
    "- Count of high selling products (>5000)"
   ]
  },
  {
   "cell_type": "markdown",
   "id": "1c1f2262",
   "metadata": {
    "id": "1c1f2262"
   },
   "source": [
    "### ✍️ Your Task:"
   ]
  },
  {
   "cell_type": "code",
   "execution_count": 7,
   "id": "ae07f81c",
   "metadata": {
    "id": "ae07f81c"
   },
   "outputs": [
    {
     "name": "stdout",
     "output_type": "stream",
     "text": [
      "         Outlet_Type   mean_sales    std_sales  sales_25th  sales_75th  \\\n",
      "0      Grocery Store   339.828500   260.851582   153.79980   458.73620   \n",
      "1  Supermarket Type1  2316.181148  1515.965558  1151.16820  3135.91800   \n",
      "2  Supermarket Type2  1995.498739  1375.932889   981.55565  2702.64865   \n",
      "3  Supermarket Type3  3694.038558  2127.760054  2044.33890  4975.52340   \n",
      "\n",
      "   high_selling_count  \n",
      "0                   0  \n",
      "1                 359  \n",
      "2                  39  \n",
      "3                 231  \n"
     ]
    }
   ],
   "source": [
    "summary = (\n",
    "    df.groupby('Outlet_Type')['Item_Outlet_Sales']\n",
    "      .agg(\n",
    "          mean_sales='mean',\n",
    "          std_sales='std',\n",
    "          sales_25th=lambda x: np.percentile(x, 25),\n",
    "          sales_75th=lambda x: np.percentile(x, 75),\n",
    "          high_selling_count=lambda x: (x > 5000).sum()\n",
    "      )\n",
    "      .reset_index()\n",
    ")\n",
    "\n",
    "print(summary)\n"
   ]
  },
  {
   "cell_type": "markdown",
   "id": "9d1e00ef",
   "metadata": {
    "id": "9d1e00ef"
   },
   "source": [
    "---\n",
    "## 🧪 Scenario 3: Row-wise Operations and Conditional Tagging"
   ]
  },
  {
   "cell_type": "markdown",
   "id": "b851a91f",
   "metadata": {
    "id": "b851a91f"
   },
   "source": [
    "### Problem Statement:\n",
    "Tag each row as:\n",
    "- 'High Performer' if Sales > 90th percentile AND Item_MRP > 75th percentile\n",
    "- 'Average' otherwise"
   ]
  },
  {
   "cell_type": "markdown",
   "id": "06138fee",
   "metadata": {
    "id": "06138fee"
   },
   "source": [
    "### ✍️ Your Task:"
   ]
  },
  {
   "cell_type": "code",
   "execution_count": 11,
   "id": "d8dead1e",
   "metadata": {
    "id": "d8dead1e"
   },
   "outputs": [
    {
     "name": "stdout",
     "output_type": "stream",
     "text": [
      "   Item_Outlet_Sales  Item_MRP Performance_Tag\n",
      "0          3735.1380  249.8092         Average\n",
      "1           443.4228   48.2692         Average\n",
      "2          2097.2700  141.6180         Average\n",
      "3           732.3800  182.0950         Average\n",
      "4           994.7052   53.8614         Average\n"
     ]
    }
   ],
   "source": [
    "import numpy as np\n",
    "\n",
    "# Calculate thresholds\n",
    "sales_90 = df['Item_Outlet_Sales'].quantile(0.9)\n",
    "mrp_75 = df['Item_MRP'].quantile(0.75)\n",
    "\n",
    "# Create the tag column\n",
    "df['Performance_Tag'] = np.where(\n",
    "    (df['Item_Outlet_Sales'] > sales_90) & (df['Item_MRP'] > mrp_75),\n",
    "    'High Performer',\n",
    "    'Average'\n",
    ")\n",
    "\n",
    "# View result\n",
    "print(df[['Item_Outlet_Sales', 'Item_MRP', 'Performance_Tag']].head())"
   ]
  },
  {
   "cell_type": "markdown",
   "id": "6aa8c0b2",
   "metadata": {
    "id": "6aa8c0b2"
   },
   "source": [
    "---\n",
    "## 🧵 Scenario 4: Pivot Table & Reshaping"
   ]
  },
  {
   "cell_type": "markdown",
   "id": "b0110817",
   "metadata": {
    "id": "b0110817"
   },
   "source": [
    "### Problem Statement:\n",
    "Create a pivot table showing average `Item_Outlet_Sales` by `Item_Type` and `Outlet_Type`.\n",
    "Then, unstack the result and fill missing values with 0."
   ]
  },
  {
   "cell_type": "markdown",
   "id": "6aa4af5f",
   "metadata": {
    "id": "6aa4af5f"
   },
   "source": [
    "### ✍️ Your Task:"
   ]
  },
  {
   "cell_type": "code",
   "execution_count": 17,
   "id": "bd889f8c",
   "metadata": {
    "id": "bd889f8c"
   },
   "outputs": [
    {
     "name": "stdout",
     "output_type": "stream",
     "text": [
      "Outlet_Type            Grocery Store  Supermarket Type1  Supermarket Type2  \\\n",
      "Item_Type                                                                    \n",
      "Baking Goods              292.082544        2102.021249        1780.368782   \n",
      "Breads                    381.967442        2346.928355        2022.404489   \n",
      "Breakfast                 412.831042        2228.334688        1874.670867   \n",
      "Canned                    352.864879        2348.732970        1867.714110   \n",
      "Dairy                     341.866589        2392.654389        2083.981362   \n",
      "Frozen Foods              322.285984        2259.909110        1995.641420   \n",
      "Fruits and Vegetables     319.750450        2399.947642        1951.642279   \n",
      "Hard Drinks               243.155708        2231.408037        2247.528955   \n",
      "Health and Hygiene        365.901818        2127.626505        1876.649134   \n",
      "Household                 367.286612        2407.403432        2065.970392   \n",
      "Meat                      387.525864        2260.875454        2057.727270   \n",
      "Others                    288.094126        2244.418022        1853.620490   \n",
      "Seafood                   228.435980        2640.196610        3166.639914   \n",
      "Snack Foods               353.398432        2406.862759        2111.473733   \n",
      "Soft Drinks               343.602119        2126.751624        1923.814626   \n",
      "Starchy Foods             300.122154        2550.174048        1947.699988   \n",
      "\n",
      "Outlet_Type            Supermarket Type3  \n",
      "Item_Type                                 \n",
      "Baking Goods                 3248.872417  \n",
      "Breads                       3565.122748  \n",
      "Breakfast                    4584.759327  \n",
      "Canned                       3779.866814  \n",
      "Dairy                        3915.182245  \n",
      "Frozen Foods                 3553.621470  \n",
      "Fruits and Vegetables        4114.487061  \n",
      "Hard Drinks                  3432.951643  \n",
      "Health and Hygiene           3318.069783  \n",
      "Household                    3821.207782  \n",
      "Meat                         3862.293911  \n",
      "Others                       2700.928667  \n",
      "Seafood                      2687.073686  \n",
      "Snack Foods                  3745.168739  \n",
      "Soft Drinks                  3284.938836  \n",
      "Starchy Foods                3512.190114  \n"
     ]
    }
   ],
   "source": [
    "pivot = pd.pivot_table(\n",
    "    df,\n",
    "    values='Item_Outlet_Sales',\n",
    "    index='Item_Type',\n",
    "    columns='Outlet_Type',\n",
    "    aggfunc='mean'\n",
    ")\n",
    "# Fill missing values with 0\n",
    "pivot_filled = pivot.fillna(0)\n",
    "\n",
    "# View the result\n",
    "print(pivot_filled)"
   ]
  },
  {
   "cell_type": "markdown",
   "id": "ab79c23f",
   "metadata": {
    "id": "ab79c23f"
   },
   "source": [
    "---\n",
    "## 🪜 Scenario 5: Memory Optimization and Dtype Inference"
   ]
  },
  {
   "cell_type": "markdown",
   "id": "74a8655b",
   "metadata": {
    "id": "74a8655b"
   },
   "source": [
    "### Problem Statement:\n",
    "- Find top 5 columns with largest memory usage\n",
    "- Optimize their datatypes (e.g., float32 instead of float64)\n",
    "- Calculate memory usage before and after"
   ]
  },
  {
   "cell_type": "markdown",
   "id": "b151ec08",
   "metadata": {
    "id": "b151ec08"
   },
   "source": [
    "### ✍️ Your Task:"
   ]
  },
  {
   "cell_type": "code",
   "execution_count": null,
   "id": "4a1f8efa",
   "metadata": {
    "id": "4a1f8efa"
   },
   "outputs": [],
   "source": []
  },
  {
   "cell_type": "markdown",
   "id": "72099c40",
   "metadata": {
    "id": "72099c40"
   },
   "source": [
    "---\n",
    "## 🌀 Scenario 6: MultiIndex Operations"
   ]
  },
  {
   "cell_type": "markdown",
   "id": "12ce1a76",
   "metadata": {
    "id": "12ce1a76"
   },
   "source": [
    "### Problem Statement:\n",
    "Set a multi-index with `Outlet_Identifier` and `Item_Type`.\n",
    "Then, retrieve all rows for OUT049 and all Dairy products."
   ]
  },
  {
   "cell_type": "markdown",
   "id": "301a30b0",
   "metadata": {
    "id": "301a30b0"
   },
   "source": [
    "### ✍️ Your Task:"
   ]
  },
  {
   "cell_type": "code",
   "execution_count": 19,
   "id": "a7115426",
   "metadata": {
    "id": "a7115426"
   },
   "outputs": [
    {
     "name": "stdout",
     "output_type": "stream",
     "text": [
      "All rows for OUT049:\n",
      "                       Item_Identifier  Item_Weight Item_Fat_Content  \\\n",
      "Item_Type                                                             \n",
      "Dairy                           FDA15        9.300          Low Fat   \n",
      "Meat                            FDN15       17.500          Low Fat   \n",
      "Fruits and Vegetables           FDY07       11.800          Low Fat   \n",
      "Fruits and Vegetables           FDX32       15.100          Regular   \n",
      "Breakfast                       FDP49        9.000          Regular   \n",
      "...                               ...          ...              ...   \n",
      "Snack Foods                     FDK21        7.905          Low Fat   \n",
      "Fruits and Vegetables           FDV31        9.800               LF   \n",
      "Meat                            FDW27        5.860          Regular   \n",
      "Health and Hygiene              NCS17       18.600          Low Fat   \n",
      "Snack Foods                     FDL10        8.395          Low Fat   \n",
      "\n",
      "                       Item_Visibility  Item_MRP  Outlet_Establishment_Year  \\\n",
      "Item_Type                                                                     \n",
      "Dairy                         0.016047  249.8092                       1999   \n",
      "Meat                          0.016760  141.6180                       1999   \n",
      "Fruits and Vegetables         0.000000   45.5402                       1999   \n",
      "Fruits and Vegetables         0.100014  145.4786                       1999   \n",
      "Breakfast                     0.069196   54.3614                       1999   \n",
      "...                                ...       ...                        ...   \n",
      "Snack Foods                   0.010028  249.6408                       1999   \n",
      "Fruits and Vegetables         0.000000  175.2370                       1999   \n",
      "Meat                          0.151088  155.1314                       1999   \n",
      "Health and Hygiene            0.080627   92.5436                       1999   \n",
      "Snack Foods                   0.039554   99.1042                       1999   \n",
      "\n",
      "                      Outlet_Size Outlet_Location_Type        Outlet_Type  \\\n",
      "Item_Type                                                                   \n",
      "Dairy                      Medium               Tier 1  Supermarket Type1   \n",
      "Meat                       Medium               Tier 1  Supermarket Type1   \n",
      "Fruits and Vegetables      Medium               Tier 1  Supermarket Type1   \n",
      "Fruits and Vegetables      Medium               Tier 1  Supermarket Type1   \n",
      "Breakfast                  Medium               Tier 1  Supermarket Type1   \n",
      "...                           ...                  ...                ...   \n",
      "Snack Foods                Medium               Tier 1  Supermarket Type1   \n",
      "Fruits and Vegetables      Medium               Tier 1  Supermarket Type1   \n",
      "Meat                       Medium               Tier 1  Supermarket Type1   \n",
      "Health and Hygiene         Medium               Tier 1  Supermarket Type1   \n",
      "Snack Foods                Medium               Tier 1  Supermarket Type1   \n",
      "\n",
      "                       Item_Outlet_Sales Performance_Tag  \n",
      "Item_Type                                                 \n",
      "Dairy                          3735.1380         Average  \n",
      "Meat                           2097.2700         Average  \n",
      "Fruits and Vegetables          1516.0266         Average  \n",
      "Fruits and Vegetables          1589.2646         Average  \n",
      "Breakfast                       718.3982         Average  \n",
      "...                                  ...             ...  \n",
      "Snack Foods                    3254.4304         Average  \n",
      "Fruits and Vegetables          3881.6140         Average  \n",
      "Meat                           1551.3140         Average  \n",
      "Health and Hygiene              378.1744         Average  \n",
      "Snack Foods                    2579.3092         Average  \n",
      "\n",
      "[930 rows x 11 columns]\n",
      "\n",
      "All Dairy products across all outlets:\n",
      "                   Item_Identifier  Item_Weight Item_Fat_Content  \\\n",
      "Outlet_Identifier                                                 \n",
      "OUT049                      FDA15        9.300          Low Fat   \n",
      "OUT046                      FDA03       18.500          Regular   \n",
      "OUT035                      FDU02       13.350          Low Fat   \n",
      "OUT010                      FDE51        5.925          Regular   \n",
      "OUT010                      FDV38       19.250          Low Fat   \n",
      "...                           ...          ...              ...   \n",
      "OUT035                      FDC39        7.405          Low Fat   \n",
      "OUT017                      FDS26       20.350          Low Fat   \n",
      "OUT018                      FDV50       14.300          Low Fat   \n",
      "OUT035                      FDY50        5.800          Low Fat   \n",
      "OUT013                      FDR26       20.700          Low Fat   \n",
      "\n",
      "                   Item_Visibility  Item_MRP  Outlet_Establishment_Year  \\\n",
      "Outlet_Identifier                                                         \n",
      "OUT049                    0.016047  249.8092                       1999   \n",
      "OUT046                    0.045464  144.1102                       1997   \n",
      "OUT035                    0.102492  230.5352                       2004   \n",
      "OUT010                    0.161467   45.5086                       1998   \n",
      "OUT010                    0.170349   55.7956                       1998   \n",
      "...                            ...       ...                        ...   \n",
      "OUT035                    0.159165  207.1296                       2004   \n",
      "OUT017                    0.089975  261.6594                       2007   \n",
      "OUT018                    0.123071  121.1730                       2009   \n",
      "OUT035                    0.130931   89.9172                       2004   \n",
      "OUT013                    0.042801  178.3028                       1987   \n",
      "\n",
      "                  Outlet_Size Outlet_Location_Type        Outlet_Type  \\\n",
      "Outlet_Identifier                                                       \n",
      "OUT049                 Medium               Tier 1  Supermarket Type1   \n",
      "OUT046                  Small               Tier 1  Supermarket Type1   \n",
      "OUT035                  Small               Tier 2  Supermarket Type1   \n",
      "OUT010                    NaN               Tier 3      Grocery Store   \n",
      "OUT010                    NaN               Tier 3      Grocery Store   \n",
      "...                       ...                  ...                ...   \n",
      "OUT035                  Small               Tier 2  Supermarket Type1   \n",
      "OUT017                    NaN               Tier 2  Supermarket Type1   \n",
      "OUT018                 Medium               Tier 3  Supermarket Type2   \n",
      "OUT035                  Small               Tier 2  Supermarket Type1   \n",
      "OUT013                   High               Tier 3  Supermarket Type1   \n",
      "\n",
      "                   Item_Outlet_Sales Performance_Tag  \n",
      "Outlet_Identifier                                     \n",
      "OUT049                     3735.1380         Average  \n",
      "OUT046                     2187.1530         Average  \n",
      "OUT035                     2748.4224         Average  \n",
      "OUT010                      178.4344         Average  \n",
      "OUT010                      163.7868         Average  \n",
      "...                              ...             ...  \n",
      "OUT035                     3739.1328         Average  \n",
      "OUT017                     7588.1226  High Performer  \n",
      "OUT018                     2093.9410         Average  \n",
      "OUT035                     1516.6924         Average  \n",
      "OUT013                     2479.4392         Average  \n",
      "\n",
      "[682 rows x 11 columns]\n"
     ]
    }
   ],
   "source": [
    "# 1. Set MultiIndex\n",
    "df_multi = df.set_index(['Outlet_Identifier', 'Item_Type'])\n",
    "\n",
    "# 2. Retrieve all rows for Outlet_Identifier 'OUT049'\n",
    "out049_rows = df_multi.loc['OUT049']\n",
    "print(\"All rows for OUT049:\\n\", out049_rows)\n",
    "\n",
    "# 3. Retrieve all rows for Item_Type 'Dairy' across all outlets\n",
    "dairy_rows = df_multi.xs('Dairy', level='Item_Type')\n",
    "print(\"\\nAll Dairy products across all outlets:\\n\", dairy_rows)\n"
   ]
  },
  {
   "cell_type": "markdown",
   "id": "54e65dff",
   "metadata": {
    "id": "54e65dff"
   },
   "source": [
    "---\n",
    "## 🔁 Scenario 7: Exploding Lists and Normalizing Nested Structures"
   ]
  },
  {
   "cell_type": "markdown",
   "id": "9e5d24e6",
   "metadata": {
    "id": "9e5d24e6"
   },
   "source": [
    "### Problem Statement:\n",
    "Assume a column contains lists of promo tags like ['summer', 'festival'].\n",
    "Explode the list into separate rows."
   ]
  },
  {
   "cell_type": "markdown",
   "id": "10b5ff03",
   "metadata": {
    "id": "10b5ff03"
   },
   "source": [
    "### ✍️ Your Task:"
   ]
  },
  {
   "cell_type": "code",
   "execution_count": 29,
   "id": "912a69f9",
   "metadata": {
    "id": "912a69f9"
   },
   "outputs": [
    {
     "name": "stdout",
     "output_type": "stream",
     "text": [
      "Original DataFrame:\n",
      "  Item_Identifier                   Promo_Tags\n",
      "0               A           [summer, festival]\n",
      "1               B                  [clearance]\n",
      "2               C  [summer, newyear, festival]\n",
      "\n",
      "Exploded DataFrame:\n",
      "  Item_Identifier Promo_Tags\n",
      "0               A     summer\n",
      "0               A   festival\n",
      "1               B  clearance\n",
      "2               C     summer\n",
      "2               C    newyear\n",
      "2               C   festival\n"
     ]
    }
   ],
   "source": [
    "import pandas as pd\n",
    "\n",
    "# Simulate a DataFrame with a column of lists\n",
    "df = pd.DataFrame({\n",
    "    'Item_Identifier': ['A', 'B', 'C'],\n",
    "    'Promo_Tags': [['summer', 'festival'], ['clearance'], ['summer', 'newyear', 'festival']]\n",
    "})\n",
    "\n",
    "print(\"Original DataFrame:\")\n",
    "print(df)\n",
    "\n",
    "# Explode the 'Promo_Tags' column\n",
    "df_exploded = df.explode('Promo_Tags')\n",
    "\n",
    "print(\"\\nExploded DataFrame:\")\n",
    "print(df_exploded)\n"
   ]
  },
  {
   "cell_type": "markdown",
   "id": "547e0fc0",
   "metadata": {
    "id": "547e0fc0"
   },
   "source": [
    "---\n",
    "## 🧩 Final Thoughts:\n",
    "Make sure to:\n",
    "- Comment your logic clearly\n",
    "- Validate shapes and nulls after operations\n",
    "- Avoid chained indexing"
   ]
  },
  {
   "cell_type": "code",
   "execution_count": null,
   "id": "25191b19",
   "metadata": {
    "id": "25191b19"
   },
   "outputs": [],
   "source": [
    "print(\"✅ Great job! Submit your completed .ipynb file.\")"
   ]
  }
 ],
 "metadata": {
  "colab": {
   "provenance": []
  },
  "kernelspec": {
   "display_name": "Python 3 (ipykernel)",
   "language": "python",
   "name": "python3"
  },
  "language_info": {
   "codemirror_mode": {
    "name": "ipython",
    "version": 3
   },
   "file_extension": ".py",
   "mimetype": "text/x-python",
   "name": "python",
   "nbconvert_exporter": "python",
   "pygments_lexer": "ipython3",
   "version": "3.12.4"
  }
 },
 "nbformat": 4,
 "nbformat_minor": 5
}
